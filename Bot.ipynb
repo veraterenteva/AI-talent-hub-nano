{
  "nbformat": 4,
  "nbformat_minor": 0,
  "metadata": {
    "colab": {
      "provenance": []
    },
    "kernelspec": {
      "name": "python3",
      "display_name": "Python 3"
    },
    "language_info": {
      "name": "python"
    }
  },
  "cells": [
    {
      "cell_type": "code",
      "execution_count": null,
      "metadata": {
        "colab": {
          "base_uri": "https://localhost:8080/"
        },
        "id": "kOmDijhO3ody",
        "outputId": "f2222dea-8734-43c3-87d5-42922ff3859f"
      },
      "outputs": [
        {
          "output_type": "stream",
          "name": "stdout",
          "text": [
            "Requirement already satisfied: pytelegrambotapi in /usr/local/lib/python3.10/dist-packages (4.13.0)\n",
            "Requirement already satisfied: requests in /usr/local/lib/python3.10/dist-packages (from pytelegrambotapi) (2.31.0)\n",
            "Requirement already satisfied: charset-normalizer<4,>=2 in /usr/local/lib/python3.10/dist-packages (from requests->pytelegrambotapi) (3.2.0)\n",
            "Requirement already satisfied: idna<4,>=2.5 in /usr/local/lib/python3.10/dist-packages (from requests->pytelegrambotapi) (3.4)\n",
            "Requirement already satisfied: urllib3<3,>=1.21.1 in /usr/local/lib/python3.10/dist-packages (from requests->pytelegrambotapi) (2.0.4)\n",
            "Requirement already satisfied: certifi>=2017.4.17 in /usr/local/lib/python3.10/dist-packages (from requests->pytelegrambotapi) (2023.7.22)\n",
            "Requirement already satisfied: keras in /usr/local/lib/python3.10/dist-packages (2.12.0)\n"
          ]
        }
      ],
      "source": [
        "!pip install pytelegrambotapi\n",
        "!pip install keras\n",
        "\n",
        "# подключаем модуль для Телеграма\n",
        "import telebot\n",
        "from telebot import types\n",
        "from keras.models import load_model\n",
        "from google.colab import drive\n",
        "from keras.models import load_model\n",
        "from tensorflow.keras.utils import load_img\n",
        "from tensorflow.keras.utils import img_to_array\n",
        "import numpy as np"
      ]
    },
    {
      "cell_type": "code",
      "source": [
        "# Всё сохранение происходит на Гугл Драйв\n",
        "drive.mount('/content/drive')"
      ],
      "metadata": {
        "colab": {
          "base_uri": "https://localhost:8080/"
        },
        "id": "SVliTN1oH2da",
        "outputId": "b59795af-1ed8-4497-bf5b-8349c4dcf018"
      },
      "execution_count": null,
      "outputs": [
        {
          "output_type": "stream",
          "name": "stdout",
          "text": [
            "Drive already mounted at /content/drive; to attempt to forcibly remount, call drive.mount(\"/content/drive\", force_remount=True).\n"
          ]
        }
      ]
    },
    {
      "cell_type": "code",
      "source": [
        "# Указываем токен для доступа к боту\n",
        "bot = telebot.TeleBot('6506142546:AAFC0GzG49H9gOZeUrzl13ZZQIYcrVJGPNs')\n",
        "\n",
        "# Храним названия актуальных файлов\n",
        "file_names = []\n",
        "\n",
        "# Загружаем модель\n",
        "model = load_model('my_model.h5')\n",
        "model.compile()"
      ],
      "metadata": {
        "id": "P-TKEYJvUV1b"
      },
      "execution_count": null,
      "outputs": []
    },
    {
      "cell_type": "code",
      "source": [
        "def determine_shape(file_name):\n",
        "    img_width, img_height = 150, 150\n",
        "    img = load_img(f'/content/bot_photo/{file_name}', target_size=(img_width, img_height))\n",
        "    x = img_to_array(img)\n",
        "    x = np.expand_dims(x, axis=0)\n",
        "    images = np.vstack([x])\n",
        "    res = model.predict(images)[0]\n",
        "    return res"
      ],
      "metadata": {
        "id": "mcbjDh8-Yqn0"
      },
      "execution_count": null,
      "outputs": []
    },
    {
      "cell_type": "code",
      "source": [
        "def get_message(prediction):\n",
        "    return f\"С вероятностями {prediction[0]*100}%, {prediction[1]*100}%, {prediction[2]*100}% на картинке изображены соответственно палки, кубы, шары\""
      ],
      "metadata": {
        "id": "tOcl-QBOcjI1"
      },
      "execution_count": null,
      "outputs": []
    },
    {
      "cell_type": "code",
      "source": [
        "# Хэндлер текстовых сообщений\n",
        "@bot.message_handler(content_types=['text'])\n",
        "def get_text_messages(message):\n",
        "  if message.text == \"/start\":\n",
        "      # Обработчик нашего базового функционала\n",
        "      bot.send_message(message.from_user.id,\n",
        "      \"\"\"Привет, я NanoPred. Сейчас я умею рассказывать о том, что вижу по твоим наночастицам.\n",
        "      \\n Обращаю твоё внимание: картинки должны иметь расширение 150x150\n",
        "      \\n Напиши /help, чтобы узнать больше и воспользоваться функционалом\n",
        "      \"\"\")\n",
        "\n",
        "  elif message.text == \"/help\":\n",
        "      # Заводим первую кнопку для функции \"картинка-тип\"\n",
        "      keyboard = types.InlineKeyboardMarkup()\n",
        "      key_type_by_picture = types.InlineKeyboardButton(text='👀', callback_data='picture-type')\n",
        "      keyboard.add(key_type_by_picture)\n",
        "\n",
        "      bot.send_message(message.from_user.id, text=\n",
        "      \"\"\"\n",
        "      Этот бот позволяет осуществлять определение типа структуры наночастиц по представленным фотографиям.\n",
        "В будущем он научится предсказывать по входным параметрам синтеза фотографию синтезируемой наночастицы\n",
        "Перед тем, как начать, не забудь загрузить фотографии. Затем нажми на 👀, и я скажу тебе, что вижу\n",
        "      \"\"\", reply_markup=keyboard)\n",
        "\n",
        "  else:\n",
        "      bot.send_message(message.from_user.id, \"Я не очень тебя понял. Напиши /help.\")\n",
        "\n",
        "\n",
        "# Сохранение картинок, которые приходят от пользователя\n",
        "@bot.message_handler(content_types=['photo'])\n",
        "def handle_docs_document(message):\n",
        "    file_info = bot.get_file(message.photo[len(message.photo) - 1].file_id)\n",
        "    downloaded_file = bot.download_file(file_info.file_path)\n",
        "    src = '/content/bot_photo/' + message.photo[1].file_id\n",
        "\n",
        "    with open(src, 'wb') as new_file:\n",
        "        new_file.write(downloaded_file)\n",
        "\n",
        "    file_names.append(message.photo[1].file_id)\n",
        "    bot.reply_to(message, \"Фото добавлено\")\n",
        "\n",
        "\n",
        "# Обработчик нажатий на кнопки\n",
        "@bot.callback_query_handler(func=lambda call: True)\n",
        "def callback_worker(call):\n",
        "    # Если нажали на кнопку с глазками \"картинка -> тип\", выводим предсказание типа\n",
        "    if call.data == \"picture-type\":\n",
        "        msg = \"Если фотографии были добавлены до этого, я сделаю для них прогноз\"\n",
        "        bot.send_message(call.message.chat.id, msg)\n",
        "\n",
        "        if not file_names:                                          # Нет файлов\n",
        "            bot.send_message(call.message.chat.id, \"Упс, нечего предсказывать, ты не отправил ни одной картинки. Попробуй ещё раз\")\n",
        "        else:                                                       # Есть файлы\n",
        "            bot.send_message(call.message.chat.id, \"Отлично. Сейчас сделаю\")\n",
        "            for i, picture in enumerate(file_names):\n",
        "                # Здесь должно быть предсказание\n",
        "                mes = get_message(determine_shape(picture))\n",
        "                file_names.remove(picture)\n",
        "                bot.send_message(call.message.chat.id, f\"Картинка {i+1}: \" + mes)\n",
        "# Слушатель бота\n",
        "bot.polling(none_stop=True, interval=0)\n"
      ],
      "metadata": {
        "colab": {
          "base_uri": "https://localhost:8080/"
        },
        "id": "GheJk92W3_A9",
        "outputId": "92a7e711-b466-4376-9ae4-ef261387ba7e"
      },
      "execution_count": null,
      "outputs": [
        {
          "output_type": "stream",
          "name": "stdout",
          "text": [
            "1/1 [==============================] - 0s 66ms/step\n",
            "С вероятностями 0.0%, 0.0%, 100.0% на картинке изображены соответственно кубы, палки, шары\n",
            "1/1 [==============================] - 0s 24ms/step\n",
            "С вероятностями 0.0%, 0.0%, 100.0% на картинке изображены соответственно кубы, палки, шары\n"
          ]
        }
      ]
    }
  ]
}