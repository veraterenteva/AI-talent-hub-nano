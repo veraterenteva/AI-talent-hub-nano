{
  "nbformat": 4,
  "nbformat_minor": 0,
  "metadata": {
    "colab": {
      "provenance": []
    },
    "kernelspec": {
      "name": "python3",
      "display_name": "Python 3"
    },
    "language_info": {
      "name": "python"
    }
  },
  "cells": [
    {
      "cell_type": "markdown",
      "source": [
        "# Обучение сверточной нейронной сети для предсказания формы Наночастиц при синтезе"
      ],
      "metadata": {
        "id": "R5oA2kXh_RGD"
      }
    },
    {
      "cell_type": "code",
      "execution_count": null,
      "metadata": {
        "id": "7N4SdF8CsRnH"
      },
      "outputs": [],
      "source": [
        "import shutil\n",
        "import os\n",
        "import tensorflow as tf\n",
        "from tensorflow.keras.preprocessing.image import ImageDataGenerator\n",
        "from tensorflow.keras.models import Sequential\n",
        "from tensorflow.keras.layers import Conv2D, MaxPooling2D\n",
        "from tensorflow.keras.layers import Activation, Dropout, Flatten, Dense"
      ]
    },
    {
      "cell_type": "code",
      "source": [
        "!pip install keras\n",
        "!pip install tensorflow"
      ],
      "metadata": {
        "colab": {
          "base_uri": "https://localhost:8080/"
        },
        "id": "0oxThBoK4oT7",
        "outputId": "a563361f-ca54-482b-e0c0-29182e0a80c0"
      },
      "execution_count": null,
      "outputs": [
        {
          "output_type": "stream",
          "name": "stdout",
          "text": [
            "Requirement already satisfied: keras in /usr/local/lib/python3.10/dist-packages (2.12.0)\n",
            "Requirement already satisfied: tensorflow in /usr/local/lib/python3.10/dist-packages (2.12.0)\n",
            "Requirement already satisfied: absl-py>=1.0.0 in /usr/local/lib/python3.10/dist-packages (from tensorflow) (1.4.0)\n",
            "Requirement already satisfied: astunparse>=1.6.0 in /usr/local/lib/python3.10/dist-packages (from tensorflow) (1.6.3)\n",
            "Requirement already satisfied: flatbuffers>=2.0 in /usr/local/lib/python3.10/dist-packages (from tensorflow) (23.5.26)\n",
            "Requirement already satisfied: gast<=0.4.0,>=0.2.1 in /usr/local/lib/python3.10/dist-packages (from tensorflow) (0.4.0)\n",
            "Requirement already satisfied: google-pasta>=0.1.1 in /usr/local/lib/python3.10/dist-packages (from tensorflow) (0.2.0)\n",
            "Requirement already satisfied: grpcio<2.0,>=1.24.3 in /usr/local/lib/python3.10/dist-packages (from tensorflow) (1.57.0)\n",
            "Requirement already satisfied: h5py>=2.9.0 in /usr/local/lib/python3.10/dist-packages (from tensorflow) (3.9.0)\n",
            "Requirement already satisfied: jax>=0.3.15 in /usr/local/lib/python3.10/dist-packages (from tensorflow) (0.4.14)\n",
            "Requirement already satisfied: keras<2.13,>=2.12.0 in /usr/local/lib/python3.10/dist-packages (from tensorflow) (2.12.0)\n",
            "Requirement already satisfied: libclang>=13.0.0 in /usr/local/lib/python3.10/dist-packages (from tensorflow) (16.0.6)\n",
            "Requirement already satisfied: numpy<1.24,>=1.22 in /usr/local/lib/python3.10/dist-packages (from tensorflow) (1.23.5)\n",
            "Requirement already satisfied: opt-einsum>=2.3.2 in /usr/local/lib/python3.10/dist-packages (from tensorflow) (3.3.0)\n",
            "Requirement already satisfied: packaging in /usr/local/lib/python3.10/dist-packages (from tensorflow) (23.1)\n",
            "Requirement already satisfied: protobuf!=4.21.0,!=4.21.1,!=4.21.2,!=4.21.3,!=4.21.4,!=4.21.5,<5.0.0dev,>=3.20.3 in /usr/local/lib/python3.10/dist-packages (from tensorflow) (3.20.3)\n",
            "Requirement already satisfied: setuptools in /usr/local/lib/python3.10/dist-packages (from tensorflow) (67.7.2)\n",
            "Requirement already satisfied: six>=1.12.0 in /usr/local/lib/python3.10/dist-packages (from tensorflow) (1.16.0)\n",
            "Requirement already satisfied: tensorboard<2.13,>=2.12 in /usr/local/lib/python3.10/dist-packages (from tensorflow) (2.12.3)\n",
            "Requirement already satisfied: tensorflow-estimator<2.13,>=2.12.0 in /usr/local/lib/python3.10/dist-packages (from tensorflow) (2.12.0)\n",
            "Requirement already satisfied: termcolor>=1.1.0 in /usr/local/lib/python3.10/dist-packages (from tensorflow) (2.3.0)\n",
            "Requirement already satisfied: typing-extensions>=3.6.6 in /usr/local/lib/python3.10/dist-packages (from tensorflow) (4.7.1)\n",
            "Requirement already satisfied: wrapt<1.15,>=1.11.0 in /usr/local/lib/python3.10/dist-packages (from tensorflow) (1.14.1)\n",
            "Requirement already satisfied: tensorflow-io-gcs-filesystem>=0.23.1 in /usr/local/lib/python3.10/dist-packages (from tensorflow) (0.33.0)\n",
            "Requirement already satisfied: wheel<1.0,>=0.23.0 in /usr/local/lib/python3.10/dist-packages (from astunparse>=1.6.0->tensorflow) (0.41.2)\n",
            "Requirement already satisfied: ml-dtypes>=0.2.0 in /usr/local/lib/python3.10/dist-packages (from jax>=0.3.15->tensorflow) (0.2.0)\n",
            "Requirement already satisfied: scipy>=1.7 in /usr/local/lib/python3.10/dist-packages (from jax>=0.3.15->tensorflow) (1.10.1)\n",
            "Requirement already satisfied: google-auth<3,>=1.6.3 in /usr/local/lib/python3.10/dist-packages (from tensorboard<2.13,>=2.12->tensorflow) (2.17.3)\n",
            "Requirement already satisfied: google-auth-oauthlib<1.1,>=0.5 in /usr/local/lib/python3.10/dist-packages (from tensorboard<2.13,>=2.12->tensorflow) (1.0.0)\n",
            "Requirement already satisfied: markdown>=2.6.8 in /usr/local/lib/python3.10/dist-packages (from tensorboard<2.13,>=2.12->tensorflow) (3.4.4)\n",
            "Requirement already satisfied: requests<3,>=2.21.0 in /usr/local/lib/python3.10/dist-packages (from tensorboard<2.13,>=2.12->tensorflow) (2.31.0)\n",
            "Requirement already satisfied: tensorboard-data-server<0.8.0,>=0.7.0 in /usr/local/lib/python3.10/dist-packages (from tensorboard<2.13,>=2.12->tensorflow) (0.7.1)\n",
            "Requirement already satisfied: werkzeug>=1.0.1 in /usr/local/lib/python3.10/dist-packages (from tensorboard<2.13,>=2.12->tensorflow) (2.3.7)\n",
            "Requirement already satisfied: cachetools<6.0,>=2.0.0 in /usr/local/lib/python3.10/dist-packages (from google-auth<3,>=1.6.3->tensorboard<2.13,>=2.12->tensorflow) (5.3.1)\n",
            "Requirement already satisfied: pyasn1-modules>=0.2.1 in /usr/local/lib/python3.10/dist-packages (from google-auth<3,>=1.6.3->tensorboard<2.13,>=2.12->tensorflow) (0.3.0)\n",
            "Requirement already satisfied: rsa<5,>=3.1.4 in /usr/local/lib/python3.10/dist-packages (from google-auth<3,>=1.6.3->tensorboard<2.13,>=2.12->tensorflow) (4.9)\n",
            "Requirement already satisfied: requests-oauthlib>=0.7.0 in /usr/local/lib/python3.10/dist-packages (from google-auth-oauthlib<1.1,>=0.5->tensorboard<2.13,>=2.12->tensorflow) (1.3.1)\n",
            "Requirement already satisfied: charset-normalizer<4,>=2 in /usr/local/lib/python3.10/dist-packages (from requests<3,>=2.21.0->tensorboard<2.13,>=2.12->tensorflow) (3.2.0)\n",
            "Requirement already satisfied: idna<4,>=2.5 in /usr/local/lib/python3.10/dist-packages (from requests<3,>=2.21.0->tensorboard<2.13,>=2.12->tensorflow) (3.4)\n",
            "Requirement already satisfied: urllib3<3,>=1.21.1 in /usr/local/lib/python3.10/dist-packages (from requests<3,>=2.21.0->tensorboard<2.13,>=2.12->tensorflow) (2.0.4)\n",
            "Requirement already satisfied: certifi>=2017.4.17 in /usr/local/lib/python3.10/dist-packages (from requests<3,>=2.21.0->tensorboard<2.13,>=2.12->tensorflow) (2023.7.22)\n",
            "Requirement already satisfied: MarkupSafe>=2.1.1 in /usr/local/lib/python3.10/dist-packages (from werkzeug>=1.0.1->tensorboard<2.13,>=2.12->tensorflow) (2.1.3)\n",
            "Requirement already satisfied: pyasn1<0.6.0,>=0.4.6 in /usr/local/lib/python3.10/dist-packages (from pyasn1-modules>=0.2.1->google-auth<3,>=1.6.3->tensorboard<2.13,>=2.12->tensorflow) (0.5.0)\n",
            "Requirement already satisfied: oauthlib>=3.0.0 in /usr/local/lib/python3.10/dist-packages (from requests-oauthlib>=0.7.0->google-auth-oauthlib<1.1,>=0.5->tensorboard<2.13,>=2.12->tensorflow) (3.2.2)\n"
          ]
        }
      ]
    },
    {
      "cell_type": "code",
      "source": [
        "from google.colab import drive\n",
        "drive.mount('/content/drive')"
      ],
      "metadata": {
        "colab": {
          "base_uri": "https://localhost:8080/"
        },
        "id": "pyxwz6uo0WoB",
        "outputId": "65c99308-0fb3-47fc-a9c0-0f98e530e6ca"
      },
      "execution_count": null,
      "outputs": [
        {
          "output_type": "stream",
          "name": "stdout",
          "text": [
            "Mounted at /content/drive\n"
          ]
        }
      ]
    },
    {
      "cell_type": "code",
      "source": [
        "train_dir = '/content/drive/MyDrive/dataD/dataD/train'\n",
        "# Каталог с данными для тестирования\n",
        "val_dir = '/content/drive/MyDrive/dataD/dataD/test'\n",
        "# Размеры изображения\n",
        "img_width, img_height = 150, 150\n",
        "# Размерность тензора на основе изображения для входных данных в нейронную сеть\n",
        "# backend Tensorflow, channels_last\n",
        "input_shape = (img_width, img_height, 3)\n",
        "# Количество эпох\n",
        "epochs = 30\n",
        "# Размер мини-выборки\n",
        "batch_size = 16\n",
        "# Количество изображений для обучения\n",
        "nb_train_samples = 273\n",
        "# Количество изображений для тестирования\n",
        "nb_test_samples = 38"
      ],
      "metadata": {
        "id": "YvwXmWHV1URq"
      },
      "execution_count": null,
      "outputs": []
    },
    {
      "cell_type": "code",
      "source": [
        " #Определение размера входных изображений и количества классов\n",
        "num_classes = 3\n",
        "\n",
        "# Создание модели\n",
        "model = Sequential()\n",
        "\n",
        "# Первый сверточный слой\n",
        "model.add(Conv2D(32, (3, 3), input_shape=input_shape))\n",
        "model.add(Activation('relu'))\n",
        "model.add(MaxPooling2D(pool_size=(2, 2)))\n",
        "\n",
        "# Второй сверточный слой\n",
        "model.add(Conv2D(32, (3, 3)))\n",
        "model.add(Activation('relu'))\n",
        "model.add(MaxPooling2D(pool_size=(2, 2)))\n",
        "\n",
        "# Третий сверточный слой\n",
        "model.add(Conv2D(64, (3, 3)))\n",
        "model.add(Activation('relu'))\n",
        "model.add(MaxPooling2D(pool_size=(2, 2)))\n",
        "\n",
        "# Полносвязанный слой\n",
        "model.add(Flatten())\n",
        "model.add(Dense(64))\n",
        "model.add(Activation('relu'))\n",
        "model.add(Dropout(0.5))\n",
        "\n",
        "# Выходной слой\n",
        "model.add(Dense(num_classes))\n",
        "model.add(Activation('softmax'))  # Используем softmax для многоклассовой классификации"
      ],
      "metadata": {
        "id": "7FMEPIoeLP9T"
      },
      "execution_count": null,
      "outputs": []
    },
    {
      "cell_type": "code",
      "source": [
        "model.compile(loss='categorical_crossentropy',\n",
        "              optimizer='adam',\n",
        "              metrics=['accuracy'])"
      ],
      "metadata": {
        "id": "pllbKyhO1UfP"
      },
      "execution_count": null,
      "outputs": []
    },
    {
      "cell_type": "code",
      "source": [
        "datagen = ImageDataGenerator(rescale=1. / 255)"
      ],
      "metadata": {
        "id": "-ZtGS9991Ui_"
      },
      "execution_count": null,
      "outputs": []
    },
    {
      "cell_type": "code",
      "source": [
        "train_generator = datagen.flow_from_directory(\n",
        "    train_dir,\n",
        "    target_size=(img_width, img_height),\n",
        "    batch_size=batch_size,\n",
        "    class_mode='categorical')"
      ],
      "metadata": {
        "colab": {
          "base_uri": "https://localhost:8080/"
        },
        "id": "3HiUZbbs7dhM",
        "outputId": "4751c117-d11e-4af6-d8ab-92e5739160d9"
      },
      "execution_count": null,
      "outputs": [
        {
          "output_type": "stream",
          "name": "stdout",
          "text": [
            "Found 272 images belonging to 3 classes.\n"
          ]
        }
      ]
    },
    {
      "cell_type": "code",
      "source": [
        "val_generator = datagen.flow_from_directory(\n",
        "    val_dir,\n",
        "    target_size=(img_width, img_height),\n",
        "    batch_size=batch_size,\n",
        "    class_mode='categorical')"
      ],
      "metadata": {
        "colab": {
          "base_uri": "https://localhost:8080/"
        },
        "id": "4kMm0maU7dlW",
        "outputId": "41f87edd-eb2c-4529-ffea-9d7f37d7fedb"
      },
      "execution_count": null,
      "outputs": [
        {
          "output_type": "stream",
          "name": "stdout",
          "text": [
            "Found 65 images belonging to 3 classes.\n"
          ]
        }
      ]
    },
    {
      "cell_type": "code",
      "source": [
        "nb_validation_samples = len(val_generator.filenames)"
      ],
      "metadata": {
        "id": "ZiBBVZveJrKu"
      },
      "execution_count": null,
      "outputs": []
    },
    {
      "cell_type": "code",
      "source": [
        "\n",
        "model.fit_generator(\n",
        "    train_generator,\n",
        "    steps_per_epoch=nb_train_samples // batch_size,\n",
        "    epochs=epochs,\n",
        "    validation_data=val_generator,\n",
        "    validation_steps=nb_validation_samples // batch_size)"
      ],
      "metadata": {
        "colab": {
          "base_uri": "https://localhost:8080/"
        },
        "id": "Qc_Fq4vP7do_",
        "outputId": "5257bb8e-6d34-4396-f951-4541edc949ea"
      },
      "execution_count": null,
      "outputs": [
        {
          "output_type": "stream",
          "name": "stdout",
          "text": [
            "Epoch 1/30\n"
          ]
        },
        {
          "output_type": "stream",
          "name": "stderr",
          "text": [
            "<ipython-input-41-3bb64fd7de71>:1: UserWarning: `Model.fit_generator` is deprecated and will be removed in a future version. Please use `Model.fit`, which supports generators.\n",
            "  model.fit_generator(\n"
          ]
        },
        {
          "output_type": "stream",
          "name": "stdout",
          "text": [
            "17/17 [==============================] - 12s 645ms/step - loss: 1.1350 - accuracy: 0.2978 - val_loss: 1.0976 - val_accuracy: 0.3594\n",
            "Epoch 2/30\n",
            "17/17 [==============================] - 10s 584ms/step - loss: 1.0840 - accuracy: 0.3640 - val_loss: 1.1538 - val_accuracy: 0.3594\n",
            "Epoch 3/30\n",
            "17/17 [==============================] - 10s 582ms/step - loss: 1.0627 - accuracy: 0.4706 - val_loss: 1.0909 - val_accuracy: 0.4688\n",
            "Epoch 4/30\n",
            "17/17 [==============================] - 9s 485ms/step - loss: 1.0195 - accuracy: 0.4706 - val_loss: 1.1044 - val_accuracy: 0.3906\n",
            "Epoch 5/30\n",
            "17/17 [==============================] - 10s 614ms/step - loss: 0.9549 - accuracy: 0.5515 - val_loss: 1.1240 - val_accuracy: 0.3906\n",
            "Epoch 6/30\n",
            "17/17 [==============================] - 8s 476ms/step - loss: 0.8725 - accuracy: 0.6029 - val_loss: 1.1208 - val_accuracy: 0.5156\n",
            "Epoch 7/30\n",
            "17/17 [==============================] - 10s 613ms/step - loss: 0.8469 - accuracy: 0.6324 - val_loss: 1.1237 - val_accuracy: 0.5000\n",
            "Epoch 8/30\n",
            "17/17 [==============================] - 9s 526ms/step - loss: 0.7132 - accuracy: 0.6618 - val_loss: 1.1244 - val_accuracy: 0.5781\n",
            "Epoch 9/30\n",
            "17/17 [==============================] - 9s 483ms/step - loss: 0.6332 - accuracy: 0.7169 - val_loss: 1.0932 - val_accuracy: 0.5781\n",
            "Epoch 10/30\n",
            "17/17 [==============================] - 10s 615ms/step - loss: 0.5458 - accuracy: 0.7794 - val_loss: 1.3746 - val_accuracy: 0.5156\n",
            "Epoch 11/30\n",
            "17/17 [==============================] - 10s 607ms/step - loss: 0.5097 - accuracy: 0.7978 - val_loss: 1.2538 - val_accuracy: 0.5469\n",
            "Epoch 12/30\n",
            "17/17 [==============================] - 8s 482ms/step - loss: 0.4254 - accuracy: 0.8493 - val_loss: 1.4486 - val_accuracy: 0.5469\n",
            "Epoch 13/30\n",
            "17/17 [==============================] - 10s 554ms/step - loss: 0.3592 - accuracy: 0.8676 - val_loss: 1.5064 - val_accuracy: 0.5625\n",
            "Epoch 14/30\n",
            "17/17 [==============================] - 10s 615ms/step - loss: 0.3596 - accuracy: 0.8787 - val_loss: 1.4632 - val_accuracy: 0.5938\n",
            "Epoch 15/30\n",
            "17/17 [==============================] - 9s 525ms/step - loss: 0.2652 - accuracy: 0.9118 - val_loss: 1.6258 - val_accuracy: 0.6250\n",
            "Epoch 16/30\n",
            "17/17 [==============================] - 8s 472ms/step - loss: 0.2433 - accuracy: 0.9007 - val_loss: 1.5062 - val_accuracy: 0.6562\n",
            "Epoch 17/30\n",
            "17/17 [==============================] - 10s 609ms/step - loss: 0.2261 - accuracy: 0.9228 - val_loss: 1.5174 - val_accuracy: 0.6562\n",
            "Epoch 18/30\n",
            "17/17 [==============================] - 10s 615ms/step - loss: 0.2386 - accuracy: 0.9081 - val_loss: 1.7084 - val_accuracy: 0.6250\n",
            "Epoch 19/30\n",
            "17/17 [==============================] - 8s 477ms/step - loss: 0.2163 - accuracy: 0.9191 - val_loss: 1.5225 - val_accuracy: 0.6250\n",
            "Epoch 20/30\n",
            "17/17 [==============================] - 10s 617ms/step - loss: 0.1493 - accuracy: 0.9632 - val_loss: 1.8029 - val_accuracy: 0.6406\n",
            "Epoch 21/30\n",
            "17/17 [==============================] - 9s 522ms/step - loss: 0.1335 - accuracy: 0.9522 - val_loss: 1.9374 - val_accuracy: 0.6875\n",
            "Epoch 22/30\n",
            "17/17 [==============================] - 9s 478ms/step - loss: 0.1149 - accuracy: 0.9596 - val_loss: 2.1322 - val_accuracy: 0.6719\n",
            "Epoch 23/30\n",
            "17/17 [==============================] - 10s 613ms/step - loss: 0.2028 - accuracy: 0.9338 - val_loss: 2.1210 - val_accuracy: 0.7031\n",
            "Epoch 24/30\n",
            "17/17 [==============================] - 9s 531ms/step - loss: 0.2008 - accuracy: 0.9522 - val_loss: 1.7240 - val_accuracy: 0.6875\n",
            "Epoch 25/30\n",
            "17/17 [==============================] - 10s 535ms/step - loss: 0.1104 - accuracy: 0.9779 - val_loss: 2.0832 - val_accuracy: 0.6562\n",
            "Epoch 26/30\n",
            "17/17 [==============================] - 10s 619ms/step - loss: 0.1714 - accuracy: 0.9522 - val_loss: 1.6741 - val_accuracy: 0.6719\n",
            "Epoch 27/30\n",
            "17/17 [==============================] - 8s 489ms/step - loss: 0.1174 - accuracy: 0.9596 - val_loss: 1.9765 - val_accuracy: 0.6875\n",
            "Epoch 28/30\n",
            "17/17 [==============================] - 10s 620ms/step - loss: 0.1105 - accuracy: 0.9706 - val_loss: 1.9827 - val_accuracy: 0.6406\n",
            "Epoch 29/30\n",
            "17/17 [==============================] - 9s 530ms/step - loss: 0.0791 - accuracy: 0.9779 - val_loss: 2.0686 - val_accuracy: 0.6562\n",
            "Epoch 30/30\n",
            "17/17 [==============================] - 9s 488ms/step - loss: 0.0791 - accuracy: 0.9779 - val_loss: 2.1713 - val_accuracy: 0.6719\n"
          ]
        },
        {
          "output_type": "execute_result",
          "data": {
            "text/plain": [
              "<keras.callbacks.History at 0x7edb89b00c70>"
            ]
          },
          "metadata": {},
          "execution_count": 41
        }
      ]
    },
    {
      "cell_type": "code",
      "source": [
        "scores = model.evaluate_generator(val_generator, nb_test_samples // batch_size)"
      ],
      "metadata": {
        "colab": {
          "base_uri": "https://localhost:8080/"
        },
        "id": "lEEwvPfI7dsq",
        "outputId": "afd4408f-3e45-4cca-9e82-c98d01d4e178"
      },
      "execution_count": null,
      "outputs": [
        {
          "output_type": "stream",
          "name": "stderr",
          "text": [
            "<ipython-input-42-b2a1753bd39b>:1: UserWarning: `Model.evaluate_generator` is deprecated and will be removed in a future version. Please use `Model.evaluate`, which supports generators.\n",
            "  scores = model.evaluate_generator(val_generator, nb_test_samples // batch_size)\n"
          ]
        }
      ]
    },
    {
      "cell_type": "code",
      "source": [
        "scores"
      ],
      "metadata": {
        "colab": {
          "base_uri": "https://localhost:8080/"
        },
        "id": "QeG8hSfi7dyH",
        "outputId": "68c58eee-9a0a-4e69-e287-e2f1b3b08820"
      },
      "execution_count": null,
      "outputs": [
        {
          "output_type": "execute_result",
          "data": {
            "text/plain": [
              "[2.428340435028076, 0.71875]"
            ]
          },
          "metadata": {},
          "execution_count": 43
        }
      ]
    }
  ]
}